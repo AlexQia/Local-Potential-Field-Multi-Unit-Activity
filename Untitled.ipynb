{
 "cells": [
  {
   "cell_type": "code",
   "execution_count": 5,
   "id": "f5c4ca8e",
   "metadata": {},
   "outputs": [
    {
     "name": "stdout",
     "output_type": "stream",
     "text": [
      "['data_combine']\n"
     ]
    }
   ],
   "source": [
    "import scipy.io\n",
    "import numpy as np\n",
    "\n",
    "import h5py\n",
    "\n",
    "# Open the v7.3 .mat file\n",
    "with h5py.File(r'C:\\Users\\congy\\Desktop\\Gritton_Lab\\Katamine_Data\\621\\Raws.mat', 'r') as f:\n",
    "    print(list(f.keys()))  # Lists all variables at the root level\n",
    "\n",
    "    # Example: read one variable (adjust the name to match your file)\n",
    "    data = f['data_combine'][:]  # Replace 'variable_name' with actual key\n",
    "\n"
   ]
  },
  {
   "cell_type": "code",
   "execution_count": 7,
   "id": "7cb3d6df",
   "metadata": {},
   "outputs": [],
   "source": [
    "data = np.array(data, dtype=np.float32)\n",
    "data.tofile('621_raw.bin')\n"
   ]
  }
 ],
 "metadata": {
  "kernelspec": {
   "display_name": "Python 3 (ipykernel)",
   "language": "python",
   "name": "python3"
  },
  "language_info": {
   "codemirror_mode": {
    "name": "ipython",
    "version": 3
   },
   "file_extension": ".py",
   "mimetype": "text/x-python",
   "name": "python",
   "nbconvert_exporter": "python",
   "pygments_lexer": "ipython3",
   "version": "3.11.5"
  }
 },
 "nbformat": 4,
 "nbformat_minor": 5
}
